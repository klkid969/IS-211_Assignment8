{
 "cells": [
  {
   "cell_type": "code",
   "execution_count": 6,
   "id": "6c45693f-7d15-4b99-a27a-cfff585f1866",
   "metadata": {},
   "outputs": [
    {
     "name": "stdin",
     "output_type": "stream",
     "text": [
      "Player 1's turn:\n",
      "Current score: 0, Turn score: 0\n",
      "Enter 'r' to roll or 'h' to hold:  r\n"
     ]
    },
    {
     "name": "stdout",
     "output_type": "stream",
     "text": [
      "Rolled a 2\n"
     ]
    },
    {
     "name": "stdin",
     "output_type": "stream",
     "text": [
      "Player 1's turn:\n",
      "Current score: 0, Turn score: 2\n",
      "Enter 'r' to roll or 'h' to hold:  r\n"
     ]
    },
    {
     "name": "stdout",
     "output_type": "stream",
     "text": [
      "Rolled a 4\n"
     ]
    },
    {
     "name": "stdin",
     "output_type": "stream",
     "text": [
      "Player 1's turn:\n",
      "Current score: 0, Turn score: 6\n",
      "Enter 'r' to roll or 'h' to hold:  h\n"
     ]
    },
    {
     "name": "stdout",
     "output_type": "stream",
     "text": [
      "Player 2's turn:\n",
      "Current score: 0, Turn score: 0\n",
      "Player 2 decides to roll.\n",
      "Rolled a 6\n",
      "Player 2's turn:\n",
      "Current score: 0, Turn score: 6\n",
      "Player 2 decides to roll.\n",
      "Rolled a 6\n",
      "Player 2's turn:\n",
      "Current score: 0, Turn score: 12\n",
      "Player 2 decides to roll.\n",
      "Rolled a 2\n",
      "Player 2's turn:\n",
      "Current score: 0, Turn score: 14\n",
      "Player 2 decides to roll.\n",
      "Rolled a 4\n",
      "Player 2's turn:\n",
      "Current score: 0, Turn score: 18\n",
      "Player 2 decides to roll.\n",
      "Rolled a 6\n",
      "Player 2's turn:\n",
      "Current score: 0, Turn score: 24\n",
      "Player 2 decides to roll.\n",
      "Rolled a 4\n",
      "Player 2's turn:\n",
      "Current score: 0, Turn score: 28\n",
      "Player 2 decides to hold.\n"
     ]
    },
    {
     "name": "stdin",
     "output_type": "stream",
     "text": [
      "Player 1's turn:\n",
      "Current score: 6, Turn score: 0\n",
      "Enter 'r' to roll or 'h' to hold:  r\n"
     ]
    },
    {
     "name": "stdout",
     "output_type": "stream",
     "text": [
      "Rolled a 2\n"
     ]
    },
    {
     "name": "stdin",
     "output_type": "stream",
     "text": [
      "Player 1's turn:\n",
      "Current score: 6, Turn score: 2\n",
      "Enter 'r' to roll or 'h' to hold:  r\n"
     ]
    },
    {
     "name": "stdout",
     "output_type": "stream",
     "text": [
      "Rolled a 3\n"
     ]
    },
    {
     "name": "stdin",
     "output_type": "stream",
     "text": [
      "Player 1's turn:\n",
      "Current score: 6, Turn score: 5\n",
      "Enter 'r' to roll or 'h' to hold:  h\n"
     ]
    },
    {
     "name": "stdout",
     "output_type": "stream",
     "text": [
      "Player 2's turn:\n",
      "Current score: 28, Turn score: 0\n",
      "Player 2 decides to roll.\n",
      "Rolled a 1\n",
      "Player 2 rolled a 1. Turn over!\n"
     ]
    },
    {
     "name": "stdin",
     "output_type": "stream",
     "text": [
      "Player 1's turn:\n",
      "Current score: 11, Turn score: 0\n",
      "Enter 'r' to roll or 'h' to hold:  r\n"
     ]
    },
    {
     "name": "stdout",
     "output_type": "stream",
     "text": [
      "Rolled a 1\n",
      "Player 1 rolled a 1. Turn over!\n",
      "Player 2's turn:\n",
      "Current score: 28, Turn score: 0\n",
      "Player 2 decides to roll.\n",
      "Rolled a 5\n",
      "Player 2's turn:\n",
      "Current score: 28, Turn score: 5\n",
      "Player 2 decides to roll.\n",
      "Rolled a 3\n",
      "Player 2's turn:\n",
      "Current score: 28, Turn score: 8\n",
      "Player 2 decides to roll.\n",
      "Rolled a 4\n",
      "Player 2's turn:\n",
      "Current score: 28, Turn score: 12\n",
      "Player 2 decides to roll.\n",
      "Rolled a 5\n",
      "Player 2's turn:\n",
      "Current score: 28, Turn score: 17\n",
      "Player 2 decides to roll.\n",
      "Rolled a 6\n",
      "Player 2's turn:\n",
      "Current score: 28, Turn score: 23\n",
      "Player 2 decides to roll.\n",
      "Rolled a 5\n",
      "Player 2's turn:\n",
      "Current score: 28, Turn score: 28\n",
      "Player 2 decides to hold.\n"
     ]
    },
    {
     "name": "stdin",
     "output_type": "stream",
     "text": [
      "Player 1's turn:\n",
      "Current score: 11, Turn score: 0\n",
      "Enter 'r' to roll or 'h' to hold:  r\n"
     ]
    },
    {
     "name": "stdout",
     "output_type": "stream",
     "text": [
      "Rolled a 3\n"
     ]
    },
    {
     "name": "stdin",
     "output_type": "stream",
     "text": [
      "Player 1's turn:\n",
      "Current score: 11, Turn score: 3\n",
      "Enter 'r' to roll or 'h' to hold:  h\n"
     ]
    },
    {
     "name": "stdout",
     "output_type": "stream",
     "text": [
      "Player 2's turn:\n",
      "Current score: 56, Turn score: 0\n",
      "Player 2 decides to roll.\n",
      "Rolled a 5\n",
      "Player 2's turn:\n",
      "Current score: 56, Turn score: 5\n",
      "Player 2 decides to roll.\n",
      "Rolled a 4\n",
      "Player 2's turn:\n",
      "Current score: 56, Turn score: 9\n",
      "Player 2 decides to roll.\n",
      "Rolled a 1\n",
      "Player 2 rolled a 1. Turn over!\n"
     ]
    },
    {
     "name": "stdin",
     "output_type": "stream",
     "text": [
      "Player 1's turn:\n",
      "Current score: 14, Turn score: 0\n",
      "Enter 'r' to roll or 'h' to hold:  h\n"
     ]
    },
    {
     "name": "stdout",
     "output_type": "stream",
     "text": [
      "Player 2's turn:\n",
      "Current score: 56, Turn score: 0\n",
      "Player 2 decides to roll.\n",
      "Rolled a 4\n",
      "Player 2's turn:\n",
      "Current score: 56, Turn score: 4\n",
      "Player 2 decides to roll.\n",
      "Rolled a 6\n",
      "Player 2's turn:\n",
      "Current score: 56, Turn score: 10\n",
      "Player 2 decides to roll.\n",
      "Rolled a 1\n",
      "Player 2 rolled a 1. Turn over!\n"
     ]
    },
    {
     "name": "stdin",
     "output_type": "stream",
     "text": [
      "Player 1's turn:\n",
      "Current score: 14, Turn score: 0\n",
      "Enter 'r' to roll or 'h' to hold:  r\n"
     ]
    },
    {
     "name": "stdout",
     "output_type": "stream",
     "text": [
      "Rolled a 5\n"
     ]
    },
    {
     "name": "stdin",
     "output_type": "stream",
     "text": [
      "Player 1's turn:\n",
      "Current score: 14, Turn score: 5\n",
      "Enter 'r' to roll or 'h' to hold:  r\n"
     ]
    },
    {
     "name": "stdout",
     "output_type": "stream",
     "text": [
      "Rolled a 1\n",
      "Player 1 rolled a 1. Turn over!\n",
      "Player 2's turn:\n",
      "Current score: 56, Turn score: 0\n",
      "Player 2 decides to roll.\n",
      "Rolled a 5\n",
      "Player 2's turn:\n",
      "Current score: 56, Turn score: 5\n",
      "Player 2 decides to roll.\n",
      "Rolled a 2\n",
      "Player 2's turn:\n",
      "Current score: 56, Turn score: 7\n",
      "Player 2 decides to roll.\n",
      "Rolled a 4\n",
      "Player 2's turn:\n",
      "Current score: 56, Turn score: 11\n",
      "Player 2 decides to roll.\n",
      "Rolled a 6\n",
      "Player 2's turn:\n",
      "Current score: 56, Turn score: 17\n",
      "Player 2 decides to roll.\n",
      "Rolled a 5\n",
      "Player 2's turn:\n",
      "Current score: 56, Turn score: 22\n",
      "Player 2 decides to roll.\n",
      "Rolled a 1\n",
      "Player 2 rolled a 1. Turn over!\n"
     ]
    },
    {
     "name": "stdin",
     "output_type": "stream",
     "text": [
      "Player 1's turn:\n",
      "Current score: 14, Turn score: 0\n",
      "Enter 'r' to roll or 'h' to hold:  r\n"
     ]
    },
    {
     "name": "stdout",
     "output_type": "stream",
     "text": [
      "Rolled a 6\n"
     ]
    },
    {
     "name": "stdin",
     "output_type": "stream",
     "text": [
      "Player 1's turn:\n",
      "Current score: 14, Turn score: 6\n",
      "Enter 'r' to roll or 'h' to hold:  r\n"
     ]
    },
    {
     "name": "stdout",
     "output_type": "stream",
     "text": [
      "Rolled a 5\n"
     ]
    },
    {
     "name": "stdin",
     "output_type": "stream",
     "text": [
      "Player 1's turn:\n",
      "Current score: 14, Turn score: 11\n",
      "Enter 'r' to roll or 'h' to hold:  h\n"
     ]
    },
    {
     "name": "stdout",
     "output_type": "stream",
     "text": [
      "Player 2's turn:\n",
      "Current score: 56, Turn score: 0\n",
      "Player 2 decides to roll.\n",
      "Rolled a 4\n",
      "Player 2's turn:\n",
      "Current score: 56, Turn score: 4\n",
      "Player 2 decides to roll.\n",
      "Rolled a 3\n",
      "Player 2's turn:\n",
      "Current score: 56, Turn score: 7\n",
      "Player 2 decides to roll.\n",
      "Rolled a 1\n",
      "Player 2 rolled a 1. Turn over!\n"
     ]
    },
    {
     "name": "stdin",
     "output_type": "stream",
     "text": [
      "Player 1's turn:\n",
      "Current score: 25, Turn score: 0\n",
      "Enter 'r' to roll or 'h' to hold:  h\n"
     ]
    },
    {
     "name": "stdout",
     "output_type": "stream",
     "text": [
      "Player 2's turn:\n",
      "Current score: 56, Turn score: 0\n",
      "Player 2 decides to roll.\n",
      "Rolled a 6\n",
      "Player 2's turn:\n",
      "Current score: 56, Turn score: 6\n",
      "Player 2 decides to roll.\n",
      "Rolled a 3\n",
      "Player 2's turn:\n",
      "Current score: 56, Turn score: 9\n",
      "Player 2 decides to roll.\n",
      "Rolled a 6\n",
      "Player 2's turn:\n",
      "Current score: 56, Turn score: 15\n",
      "Player 2 decides to roll.\n",
      "Rolled a 1\n",
      "Player 2 rolled a 1. Turn over!\n"
     ]
    },
    {
     "name": "stdin",
     "output_type": "stream",
     "text": [
      "Player 1's turn:\n",
      "Current score: 25, Turn score: 0\n",
      "Enter 'r' to roll or 'h' to hold:  r\n"
     ]
    },
    {
     "name": "stdout",
     "output_type": "stream",
     "text": [
      "Rolled a 4\n",
      "Time's up! Game over.\n"
     ]
    },
    {
     "name": "stdin",
     "output_type": "stream",
     "text": [
      "Player 1's turn:\n",
      "Current score: 25, Turn score: 4\n",
      "Enter 'r' to roll or 'h' to hold:  r\n"
     ]
    },
    {
     "name": "stdout",
     "output_type": "stream",
     "text": [
      "Rolled a 2\n"
     ]
    },
    {
     "name": "stdin",
     "output_type": "stream",
     "text": [
      "Player 1's turn:\n",
      "Current score: 25, Turn score: 6\n",
      "Enter 'r' to roll or 'h' to hold:  r\n"
     ]
    },
    {
     "name": "stdout",
     "output_type": "stream",
     "text": [
      "Rolled a 1\n",
      "Player 1 rolled a 1. Turn over!\n",
      "Time's up! Player 2 wins with 56 points!\n"
     ]
    }
   ],
   "source": [
    "import random\n",
    "import time\n",
    "import threading\n",
    "\n",
    "# Player class\n",
    "class Player:\n",
    "    def __init__(self, name):\n",
    "        self.name = name\n",
    "        self.score = 0\n",
    "        self.turn_total = 0\n",
    "\n",
    "    def roll(self, dice):\n",
    "        return dice.roll()\n",
    "\n",
    "    def hold(self):\n",
    "        self.score += self.turn_total\n",
    "        self.turn_total = 0\n",
    "\n",
    "# ComputerPlayer class\n",
    "class ComputerPlayer(Player):\n",
    "    def should_roll(self):\n",
    "        hold_threshold = min(25, 100 - self.score)\n",
    "        return self.turn_total < hold_threshold\n",
    "\n",
    "    def make_decision(self, dice):\n",
    "        if self.should_roll():\n",
    "            print(f\"{self.name} decides to roll.\")\n",
    "            roll_result = self.roll(dice)\n",
    "            print(f\"Rolled a {roll_result}\")\n",
    "            if roll_result == 1:\n",
    "                print(f\"{self.name} rolled a 1. Turn over!\")\n",
    "                self.turn_total = 0\n",
    "                return True  # Switch player\n",
    "            else:\n",
    "                self.turn_total += roll_result\n",
    "                return False  # Continue turn\n",
    "        else:\n",
    "            print(f\"{self.name} decides to hold.\")\n",
    "            self.hold()\n",
    "            return True  # Switch player\n",
    "\n",
    "# PlayerFactory class\n",
    "class PlayerFactory:\n",
    "    @staticmethod\n",
    "    def create_player(player_type, name):\n",
    "        if player_type == \"human\":\n",
    "            return Player(name)\n",
    "        elif player_type == \"computer\":\n",
    "            return ComputerPlayer(name)\n",
    "        else:\n",
    "            raise ValueError(\"Invalid player type\")\n",
    "\n",
    "# Dice class\n",
    "class Dice:\n",
    "    def __init__(self):\n",
    "        self.faces = [1, 2, 3, 4, 5, 6]\n",
    "\n",
    "    def roll(self):\n",
    "        return random.choice(self.faces)\n",
    "\n",
    "# Game class\n",
    "class Game:\n",
    "    def __init__(self, player1, player2):\n",
    "        self.dice = Dice()\n",
    "        self.players = [player1, player2]\n",
    "        self.current_player = self.players[0]\n",
    "\n",
    "    def play_turn(self):\n",
    "        if isinstance(self.current_player, ComputerPlayer):\n",
    "            # Computer's turn\n",
    "            print(f\"{self.current_player.name}'s turn:\")\n",
    "            print(f\"Current score: {self.current_player.score}, Turn score: {self.current_player.turn_total}\")\n",
    "            switch_player = self.current_player.make_decision(self.dice)\n",
    "            if switch_player:\n",
    "                self.switch_player()\n",
    "        else:\n",
    "            # Human's turn\n",
    "            while True:\n",
    "                action = input(f\"{self.current_player.name}'s turn:\\n\"\n",
    "                               f\"Current score: {self.current_player.score}, \"\n",
    "                               f\"Turn score: {self.current_player.turn_total}\\n\"\n",
    "                               \"Enter 'r' to roll or 'h' to hold: \").strip().lower()\n",
    "                if action == 'r':\n",
    "                    roll_result = self.current_player.roll(self.dice)\n",
    "                    print(f\"Rolled a {roll_result}\")\n",
    "                    if roll_result == 1:\n",
    "                        print(f\"{self.current_player.name} rolled a 1. Turn over!\")\n",
    "                        self.current_player.turn_total = 0\n",
    "                        self.switch_player()\n",
    "                        break\n",
    "                    else:\n",
    "                        self.current_player.turn_total += roll_result\n",
    "                elif action == 'h':\n",
    "                    self.current_player.hold()\n",
    "                    self.switch_player()\n",
    "                    break\n",
    "                else:\n",
    "                    print(\"Invalid input. Please enter 'r' to roll or 'h' to hold.\")\n",
    "\n",
    "    def switch_player(self):\n",
    "        self.current_player = self.players[1] if self.current_player == self.players[0] else self.players[0]\n",
    "\n",
    "    def is_game_over(self):\n",
    "        return self.players[0].score >= 100 or self.players[1].score >= 100\n",
    "\n",
    "    def get_winner(self):\n",
    "        if self.players[0].score >= 100:\n",
    "            return self.players[0]\n",
    "        elif self.players[1].score >= 100:\n",
    "            return self.players[1]\n",
    "        else:\n",
    "            return None\n",
    "\n",
    "# TimedGameProxy class\n",
    "class TimedGameProxy:\n",
    "    def __init__(self, game):\n",
    "        self.game = game\n",
    "        self.time_up = False\n",
    "\n",
    "    def end_game(self):\n",
    "        print(\"Time's up! Game over.\")\n",
    "        self.time_up = True\n",
    "\n",
    "    def play(self):\n",
    "        # Start a timer to end the game after 60 seconds\n",
    "        timer = threading.Timer(60.0, self.end_game)\n",
    "        timer.start()\n",
    "\n",
    "        while not self.game.is_game_over() and not self.time_up:\n",
    "            self.game.play_turn()\n",
    "\n",
    "        # Determine the winner\n",
    "        player1, player2 = self.game.players\n",
    "        if player1.score > player2.score:\n",
    "            print(f\"Time's up! {player1.name} wins with {player1.score} points!\")\n",
    "        elif player2.score > player1.score:\n",
    "            print(f\"Time's up! {player2.name} wins with {player2.score} points!\")\n",
    "        else:\n",
    "            print(\"Time's up! It's a tie!\")\n",
    "\n",
    "# Main function\n",
    "def main():\n",
    "    # Hardcoded values for testing in Jupyter Notebook\n",
    "    player1_type = \"human\"  # Change to \"computer\" if needed\n",
    "    player2_type = \"computer\"  # Change to \"human\" if needed\n",
    "    timed = True  # Set to False to disable timed mode\n",
    "\n",
    "    # Create players using the PlayerFactory\n",
    "    player1 = PlayerFactory.create_player(player1_type, \"Player 1\")\n",
    "    player2 = PlayerFactory.create_player(player2_type, \"Player 2\")\n",
    "\n",
    "    # Create the game\n",
    "    game = Game(player1, player2)\n",
    "\n",
    "    # Play the game\n",
    "    if timed:\n",
    "        timed_game = TimedGameProxy(game)\n",
    "        timed_game.play()\n",
    "    else:\n",
    "        while not game.is_game_over():\n",
    "            game.play_turn()\n",
    "        winner = game.get_winner()\n",
    "        print(f\"Game over! {winner.name} wins with {winner.score} points!\")\n",
    "\n",
    "if __name__ == \"__main__\":\n",
    "    main()"
   ]
  },
  {
   "cell_type": "code",
   "execution_count": null,
   "id": "61290097-0d71-4273-bf31-0bf1da67ec54",
   "metadata": {},
   "outputs": [],
   "source": []
  }
 ],
 "metadata": {
  "kernelspec": {
   "display_name": "Python 3 (ipykernel)",
   "language": "python",
   "name": "python3"
  },
  "language_info": {
   "codemirror_mode": {
    "name": "ipython",
    "version": 3
   },
   "file_extension": ".py",
   "mimetype": "text/x-python",
   "name": "python",
   "nbconvert_exporter": "python",
   "pygments_lexer": "ipython3",
   "version": "3.12.5"
  }
 },
 "nbformat": 4,
 "nbformat_minor": 5
}
